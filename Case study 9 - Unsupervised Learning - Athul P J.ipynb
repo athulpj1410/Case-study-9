{
 "cells": [
  {
   "cell_type": "markdown",
   "id": "e03b89fd",
   "metadata": {},
   "source": [
    "# <font color=\"#fc033d\" size = 30px>Case study 9 - Unsupervised Learning - Athul P J</font>"
   ]
  },
  {
   "cell_type": "code",
   "execution_count": null,
   "id": "cbba711e",
   "metadata": {},
   "outputs": [],
   "source": [
    "import pandas as pd\n",
    "import numpy as np\n",
    "import matplotlib.pyplot as plt\n",
    "import seaborn as sns"
   ]
  },
  {
   "cell_type": "code",
   "execution_count": null,
   "id": "d6c9fc24",
   "metadata": {},
   "outputs": [],
   "source": [
    "df = pd.read_csv(\"Wine.csv\")\n",
    "\n",
    "df"
   ]
  },
  {
   "cell_type": "code",
   "execution_count": null,
   "id": "47e3d362",
   "metadata": {},
   "outputs": [],
   "source": [
    "df.describe()"
   ]
  },
  {
   "cell_type": "code",
   "execution_count": null,
   "id": "29a856cc",
   "metadata": {},
   "outputs": [],
   "source": [
    "df.isna().sum()"
   ]
  },
  {
   "cell_type": "code",
   "execution_count": null,
   "id": "c00a05ef",
   "metadata": {},
   "outputs": [],
   "source": [
    "# KMeans\n",
    "\n",
    "from sklearn.cluster import KMeans\n",
    "\n",
    "wcss = []\n",
    "\n",
    "for i in range(1,11):\n",
    "    kmeans = KMeans(n_clusters = i, init = 'k-means++', random_state = 42)\n",
    "    kmeans.fit(df)\n",
    "    wcss.append(kmeans.inertia_)\n",
    "    \n",
    "    \n",
    "plt.figure(figsize=(9,7))\n",
    "plt.plot(range(1,11),wcss,'o-')\n",
    "plt.title(\"Elbow Method\")\n",
    "plt.xlabel(\"No.of Clusters\")\n",
    "plt.ylabel(\"WCSS\")\n",
    "plt.show()"
   ]
  },
  {
   "cell_type": "code",
   "execution_count": null,
   "id": "805a6ea2",
   "metadata": {},
   "outputs": [],
   "source": [
    "wcss"
   ]
  },
  {
   "cell_type": "code",
   "execution_count": null,
   "id": "70b4dfd0",
   "metadata": {},
   "outputs": [],
   "source": [
    "kmeans = KMeans(n_clusters = 4, init = 'k-means++', random_state = 42)\n",
    "ypred = kmeans.fit_predict(df);\n",
    "ypred"
   ]
  },
  {
   "cell_type": "code",
   "execution_count": null,
   "id": "bc675465",
   "metadata": {},
   "outputs": [],
   "source": [
    "ndf = df.copy()"
   ]
  },
  {
   "cell_type": "code",
   "execution_count": null,
   "id": "8b5b2af9",
   "metadata": {},
   "outputs": [],
   "source": [
    "# scaling the data\n",
    "from sklearn.preprocessing import StandardScaler\n",
    "scalar = StandardScaler()\n",
    "scaled_data = scalar.fit_transform(df)\n",
    "scaled_data = pd.DataFrame(scaled_data, columns = df.columns)\n",
    "scaled_data.describe()"
   ]
  },
  {
   "cell_type": "code",
   "execution_count": null,
   "id": "7e5f700d",
   "metadata": {},
   "outputs": [],
   "source": [
    "from sklearn.cluster import KMeans\n",
    "\n",
    "wcss = []\n",
    "\n",
    "for i in range(1,11):\n",
    "    kmeans = KMeans(n_clusters = i, init = 'k-means++', random_state = 42)\n",
    "    kmeans.fit(scaled_data)\n",
    "    wcss.append(kmeans.inertia_)\n",
    "    \n",
    "    \n",
    "plt.figure(figsize=(9,7))\n",
    "plt.plot(range(1,11),wcss,'o-')\n",
    "plt.title(\"Elbow Method\")\n",
    "plt.xlabel(\"No.of Clusters\")\n",
    "plt.ylabel(\"WCSS\")\n",
    "plt.show()"
   ]
  },
  {
   "cell_type": "code",
   "execution_count": null,
   "id": "3aea0e60",
   "metadata": {},
   "outputs": [],
   "source": [
    "kmeans = KMeans(n_clusters = 4, init = 'k-means++', random_state = 42)\n",
    "ypred = kmeans.fit_predict(scaled_data);\n",
    "ypred"
   ]
  },
  {
   "cell_type": "code",
   "execution_count": null,
   "id": "74f2e0a3",
   "metadata": {},
   "outputs": [],
   "source": [
    "scaled_data.head()"
   ]
  },
  {
   "cell_type": "code",
   "execution_count": null,
   "id": "1fd033cb",
   "metadata": {},
   "outputs": [],
   "source": [
    "from sklearn.preprocessing import Normalizer\n",
    "norm = Normalizer()\n",
    "ndf = norm.fit_transform(df)"
   ]
  },
  {
   "cell_type": "code",
   "execution_count": null,
   "id": "e0716e1b",
   "metadata": {},
   "outputs": [],
   "source": [
    "plt.figure(figsize=(12,8))\n",
    "plt.scatter(ndf[ypred == 0,0],ndf[ypred == 0,1], s = 50, c = '#ff7b00' ,label = \"Cluster 1\")\n",
    "plt.scatter(ndf[ypred == 1,0],ndf[ypred == 1,1], s = 50, c = '#63ab61' ,label = \"Cluster 2\")\n",
    "plt.scatter(ndf[ypred == 2,0],ndf[ypred == 2,1], s = 50, c = '#ff3075' ,label = \"Cluster 3\")\n",
    "plt.scatter(ndf[ypred == 3,0],ndf[ypred == 3,1], s = 50, c = '#6d98e3' ,label = \"Cluster 4\")\n",
    "plt.title(\"Cluster of Wine\",fontsize=16)\n",
    "plt.legend()\n",
    "plt.show()"
   ]
  },
  {
   "cell_type": "code",
   "execution_count": null,
   "id": "03a40171",
   "metadata": {},
   "outputs": [],
   "source": [
    "ndf = norm.fit_transform(scaled_data)"
   ]
  },
  {
   "cell_type": "code",
   "execution_count": null,
   "id": "00779157",
   "metadata": {},
   "outputs": [],
   "source": [
    "plt.figure(figsize=(12,8))\n",
    "plt.scatter(ndf[ypred == 0,0],ndf[ypred == 0,1], s = 50, c = '#ff7b00' ,label = \"Cluster 1\")\n",
    "plt.scatter(ndf[ypred == 1,0],ndf[ypred == 1,1], s = 50, c = '#63ab61' ,label = \"Cluster 2\")\n",
    "plt.scatter(ndf[ypred == 2,0],ndf[ypred == 2,1], s = 50, c = '#ff3075' ,label = \"Cluster 3\")\n",
    "plt.scatter(ndf[ypred == 3,0],ndf[ypred == 3,1], s = 50, c = '#6d98e3' ,label = \"Cluster 4\")\n",
    "plt.title(\"Cluster of Wine\",fontsize=16)\n",
    "plt.legend()\n",
    "plt.show()"
   ]
  },
  {
   "cell_type": "markdown",
   "id": "680dc92e",
   "metadata": {},
   "source": [
    "# <font color=\"#a63096\" >Agglomerative Hierarchical Clustering</font>"
   ]
  },
  {
   "cell_type": "code",
   "execution_count": null,
   "id": "50d26350",
   "metadata": {},
   "outputs": [],
   "source": [
    "import scipy.cluster.hierarchy as sch\n",
    "\n",
    "\n",
    "plt.figure(figsize=(12,7))\n",
    "dendrogram = sch.dendrogram(sch.linkage(scaled_data, method ='ward'))\n",
    "plt.title(\"Dendrogram\",fontsize=16)\n",
    "plt.xlabel(\"Wine\",fontsize=14)\n",
    "plt.ylabel(\"Eucledian Distance\")\n",
    "plt.hlines(12.5,0,5000,colors='r',linestyles=\"dashed\")\n",
    "plt.show()"
   ]
  },
  {
   "cell_type": "code",
   "execution_count": null,
   "id": "d63f42c8",
   "metadata": {},
   "outputs": [],
   "source": [
    "from sklearn.cluster import AgglomerativeClustering\n",
    "\n",
    "ac = AgglomerativeClustering(n_clusters=3,affinity='euclidean',linkage='ward')\n",
    "\n",
    "labels = ac.fit_predict(scaled_data)\n",
    "\n",
    "labels"
   ]
  },
  {
   "cell_type": "code",
   "execution_count": null,
   "id": "1a6579fa",
   "metadata": {},
   "outputs": [],
   "source": [
    "ndf = norm.fit_transform(scaled_data)\n",
    "\n",
    "plt.figure(figsize=(12,8))\n",
    "plt.scatter(ndf[labels == 0,0],ndf[labels == 0,1], s = 50, c = '#ff7b00' ,label = \"Cluster 1\")\n",
    "plt.scatter(ndf[labels == 1,0],ndf[labels == 1,1], s = 50, c = '#63ab61' ,label = \"Cluster 2\")\n",
    "plt.scatter(ndf[labels == 2,0],ndf[labels == 2,1], s = 50, c = '#ff3075' ,label = \"Cluster 3\")\n",
    "plt.title(\"Cluster of Wine\",fontsize=16)\n",
    "plt.legend()\n",
    "plt.show()"
   ]
  },
  {
   "cell_type": "code",
   "execution_count": null,
   "id": "75e12ae4",
   "metadata": {},
   "outputs": [],
   "source": []
  }
 ],
 "metadata": {
  "kernelspec": {
   "display_name": "Python 3 (ipykernel)",
   "language": "python",
   "name": "python3"
  },
  "language_info": {
   "codemirror_mode": {
    "name": "ipython",
    "version": 3
   },
   "file_extension": ".py",
   "mimetype": "text/x-python",
   "name": "python",
   "nbconvert_exporter": "python",
   "pygments_lexer": "ipython3",
   "version": "3.8.12"
  }
 },
 "nbformat": 4,
 "nbformat_minor": 5
}
